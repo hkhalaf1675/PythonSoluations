{
 "cells": [
  {
   "cell_type": "code",
   "execution_count": 3,
   "id": "9d14ede2",
   "metadata": {},
   "outputs": [
    {
     "name": "stdout",
     "output_type": "stream",
     "text": [
      "5\n",
      "4\n",
      "24\n",
      "5\n",
      "120\n",
      "6\n",
      "720\n",
      "7\n",
      "5040\n",
      "8\n",
      "40320\n"
     ]
    }
   ],
   "source": [
    "#G. Factorial\n",
    "n=int(input())\n",
    "for i in range(n):\n",
    "    t=int(input())\n",
    "    f=1\n",
    "    for j in range(1,t+1):\n",
    "        f=f*j\n",
    "    print(f)"
   ]
  },
  {
   "cell_type": "code",
   "execution_count": 9,
   "id": "184d32db",
   "metadata": {},
   "outputs": [
    {
     "name": "stdout",
     "output_type": "stream",
     "text": [
      "12121\n",
      "12121\n",
      "YES\n"
     ]
    }
   ],
   "source": [
    "#I. Palindrome\n",
    "n=int(input())\n",
    "t=n\n",
    "p=0\n",
    "while n>0:\n",
    "    p=(p*10)+(n%10)\n",
    "    n=int(n/10)\n",
    "print(p)\n",
    "if(p==t):\n",
    "    print(\"YES\")\n",
    "else:\n",
    "    print(\"NO\")"
   ]
  },
  {
   "cell_type": "code",
   "execution_count": 15,
   "id": "dded5cd2",
   "metadata": {},
   "outputs": [
    {
     "name": "stdout",
     "output_type": "stream",
     "text": [
      "10\n",
      "2 3 5 7 "
     ]
    }
   ],
   "source": [
    "#J. Primes from 1 to n\n",
    "n=int(input())\n",
    "for i in range(2,n+1):\n",
    "    f=0\n",
    "    for j in range(2,int(i/2)+1):\n",
    "        if i%j==0:\n",
    "            f=1\n",
    "    if f==0:\n",
    "        print(i,end=\" \")"
   ]
  },
  {
   "cell_type": "code",
   "execution_count": 29,
   "id": "12d23bbb",
   "metadata": {},
   "outputs": [
    {
     "name": "stdout",
     "output_type": "stream",
     "text": [
      "4 10\n",
      "4 7 "
     ]
    }
   ],
   "source": [
    "#M. Lucky Numbers\n",
    "a,b=input().split()\n",
    "c=0\n",
    "for i in range(int(a),int(b)+1):\n",
    "    f=0\n",
    "    t=i\n",
    "    while t>0:\n",
    "        if t%10==7:\n",
    "            f=0\n",
    "        elif t%10==4:\n",
    "            f=0\n",
    "        else:\n",
    "            f=1\n",
    "            break\n",
    "        t=int(t/10)\n",
    "    if f==0:\n",
    "        print(i ,end=\" \")\n",
    "        c=c+1\n",
    "if c==0:\n",
    "    print(-1)"
   ]
  },
  {
   "cell_type": "code",
   "execution_count": 26,
   "id": "e4e7deec",
   "metadata": {},
   "outputs": [
    {
     "name": "stdout",
     "output_type": "stream",
     "text": [
      "4 7\n"
     ]
    },
    {
     "ename": "ValueError",
     "evalue": "invalid literal for int() with base 10: '4 7'",
     "output_type": "error",
     "traceback": [
      "\u001b[1;31m---------------------------------------------------------------------------\u001b[0m",
      "\u001b[1;31mValueError\u001b[0m                                Traceback (most recent call last)",
      "\u001b[1;32m~\\AppData\\Local\\Temp/ipykernel_6052/3325029665.py\u001b[0m in \u001b[0;36m<module>\u001b[1;34m\u001b[0m\n\u001b[1;32m----> 1\u001b[1;33m \u001b[0mn\u001b[0m\u001b[1;33m=\u001b[0m\u001b[0mint\u001b[0m\u001b[1;33m(\u001b[0m\u001b[0minput\u001b[0m\u001b[1;33m(\u001b[0m\u001b[1;33m)\u001b[0m\u001b[1;33m)\u001b[0m\u001b[1;33m\u001b[0m\u001b[1;33m\u001b[0m\u001b[0m\n\u001b[0m\u001b[0;32m      2\u001b[0m \u001b[1;32mif\u001b[0m \u001b[0mn\u001b[0m\u001b[1;33m%\u001b[0m\u001b[1;36m10\u001b[0m\u001b[1;33m!=\u001b[0m\u001b[1;36m7\u001b[0m \u001b[1;32mand\u001b[0m \u001b[0mn\u001b[0m\u001b[1;33m%\u001b[0m\u001b[1;36m10\u001b[0m\u001b[1;33m!=\u001b[0m\u001b[1;36m4\u001b[0m\u001b[1;33m:\u001b[0m\u001b[1;33m\u001b[0m\u001b[1;33m\u001b[0m\u001b[0m\n\u001b[0;32m      3\u001b[0m     \u001b[0mprint\u001b[0m\u001b[1;33m(\u001b[0m\u001b[1;34m\"YES\"\u001b[0m\u001b[1;33m)\u001b[0m\u001b[1;33m\u001b[0m\u001b[1;33m\u001b[0m\u001b[0m\n",
      "\u001b[1;31mValueError\u001b[0m: invalid literal for int() with base 10: '4 7'"
     ]
    }
   ],
   "source": [
    "n=int(input())\n",
    "if n%10!=7 and n%10!=4:\n",
    "    print(\"YES\")"
   ]
  },
  {
   "cell_type": "code",
   "execution_count": 1,
   "id": "18fa2747",
   "metadata": {},
   "outputs": [
    {
     "name": "stdout",
     "output_type": "stream",
     "text": [
      "+\n",
      "5\n",
      "2 3 4 5 1\n",
      "++\n",
      "+++\n",
      "++++\n",
      "+++++\n",
      "+\n"
     ]
    }
   ],
   "source": [
    "#N. Numbers Histogram\n",
    "s=input()\n",
    "n=int(input())\n",
    "l=input().split()\n",
    "for i in l:\n",
    "    for j in range(int(i)):\n",
    "        print(s,end=\"\")\n",
    "    print()"
   ]
  },
  {
   "cell_type": "code",
   "execution_count": 4,
   "id": "cad36e84",
   "metadata": {},
   "outputs": [
    {
     "name": "stdout",
     "output_type": "stream",
     "text": [
      "1\n",
      "8520\n",
      "0 2 5 8 \n"
     ]
    }
   ],
   "source": [
    "#Q. Digits\n",
    "t=int(input())\n",
    "for i in range(t):\n",
    "    n=int(input())\n",
    "    while n>0:\n",
    "        print(n%10,end=\" \")\n",
    "        n=int(n/10)\n",
    "    print()"
   ]
  },
  {
   "cell_type": "code",
   "execution_count": 6,
   "id": "5d0a12fa",
   "metadata": {},
   "outputs": [
    {
     "name": "stdout",
     "output_type": "stream",
     "text": [
      "9 4\n",
      "15\n"
     ]
    }
   ],
   "source": [
    "#Z. Three Numbers\n",
    "k,s=input().split()\n",
    "k=int(k)\n",
    "c=0\n",
    "for i in range(0,k+1):\n",
    "    for j in range(0,k+1):\n",
    "        for k in range(0,k+1):\n",
    "            if i+j+k==int(s):\n",
    "                c=c+1\n",
    "print(c)"
   ]
  },
  {
   "cell_type": "code",
   "execution_count": null,
   "id": "08781e3e",
   "metadata": {},
   "outputs": [],
   "source": []
  }
 ],
 "metadata": {
  "kernelspec": {
   "display_name": "Python 3 (ipykernel)",
   "language": "python",
   "name": "python3"
  },
  "language_info": {
   "codemirror_mode": {
    "name": "ipython",
    "version": 3
   },
   "file_extension": ".py",
   "mimetype": "text/x-python",
   "name": "python",
   "nbconvert_exporter": "python",
   "pygments_lexer": "ipython3",
   "version": "3.9.7"
  }
 },
 "nbformat": 4,
 "nbformat_minor": 5
}
