{
 "cells": [
  {
   "cell_type": "code",
   "execution_count": 2,
   "id": "6c2f6ccd",
   "metadata": {},
   "outputs": [
    {
     "name": "stdout",
     "output_type": "stream",
     "text": [
      "12321\n",
      "1 2 3 2 1\n",
      "YES\n"
     ]
    }
   ],
   "source": [
    "#G.Palindrome\n",
    "n=int(input())\n",
    "narr=input().split()\n",
    "revarr=narr[::-1]\n",
    "if narr==revarr:\n",
    "    print(\"YES\")\n",
    "else:\n",
    "    print(\"NO\")"
   ]
  },
  {
   "cell_type": "code",
   "execution_count": 1,
   "id": "8336d104",
   "metadata": {},
   "outputs": [
    {
     "name": "stdout",
     "output_type": "stream",
     "text": [
      "1\n",
      "4\n",
      "20 1 9 4\n",
      "7\n"
     ]
    }
   ],
   "source": [
    "# l.Smallest Pair\n",
    "t=int(input())\n",
    "for i in range(t):\n",
    "    n=int(input())\n",
    "    narr=input().split()\n",
    "    s=int(narr[0])+int(narr[1])+1-2\n",
    "    for j in range(n):\n",
    "        for k in range(j+1,n):\n",
    "            ts=int(narr[j])+int(narr[k])+k-j\n",
    "            if ts<s:\n",
    "                s=ts\n",
    "    print(s)"
   ]
  },
  {
   "cell_type": "code",
   "execution_count": 3,
   "id": "536f5956",
   "metadata": {},
   "outputs": [
    {
     "name": "stdout",
     "output_type": "stream",
     "text": [
      "1\n",
      "4\n",
      "20 1 9 4\n",
      "11\n"
     ]
    }
   ],
   "source": [
    "# l.Smallest Pair\n",
    "t=int(input())\n",
    "for i in range(t):\n",
    "    n=int(input())\n",
    "    narr=input().split()\n",
    "    m=0\n",
    "    for i in range(len(narr)):\n",
    "        if int(narr[i])<int(narr[m]):\n",
    "            m=i\n",
    "    print(int(narr[m])+int(narr[m+1])+(m+1)-m)\n",
    "    "
   ]
  },
  {
   "cell_type": "code",
   "execution_count": null,
   "id": "add85fcf",
   "metadata": {},
   "outputs": [],
   "source": [
    "# K.Sum Digits\n",
    "n=int(input())\n",
    "d=int(input())\n",
    "s=0\n",
    "while d>0:\n",
    "    s=s+d%10\n",
    "    d=int(d/10)\n",
    "print(s)\n"
   ]
  }
 ],
 "metadata": {
  "kernelspec": {
   "display_name": "Python 3 (ipykernel)",
   "language": "python",
   "name": "python3"
  },
  "language_info": {
   "codemirror_mode": {
    "name": "ipython",
    "version": 3
   },
   "file_extension": ".py",
   "mimetype": "text/x-python",
   "name": "python",
   "nbconvert_exporter": "python",
   "pygments_lexer": "ipython3",
   "version": "3.9.7"
  }
 },
 "nbformat": 4,
 "nbformat_minor": 5
}
