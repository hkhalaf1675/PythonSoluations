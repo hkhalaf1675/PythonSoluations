{
 "cells": [
  {
   "cell_type": "code",
   "execution_count": 2,
   "id": "105d4fa8",
   "metadata": {},
   "outputs": [
    {
     "name": "stdout",
     "output_type": "stream",
     "text": [
      "1 9\n",
      "0\n"
     ]
    }
   ],
   "source": [
    "#A. Timon and Pumbaa\n",
    "a,b=input().split()\n",
    "if int(a)-int(b)>0:\n",
    "    print(int(a)-int(b))\n",
    "else:\n",
    "    print(0)"
   ]
  },
  {
   "cell_type": "code",
   "execution_count": 7,
   "id": "5e394750",
   "metadata": {},
   "outputs": [
    {
     "name": "stdout",
     "output_type": "stream",
     "text": [
      "3\n",
      "\\*/\n",
      "*X*\n",
      "/*\\\n"
     ]
    }
   ],
   "source": [
    "#B. Drawing 'X'\n",
    "n=int(input())\n",
    "for i in range(n):\n",
    "    for j in range(n):\n",
    "        if i==j and i+j+1==n:\n",
    "            print('X',end=\"\")\n",
    "        elif i==j:\n",
    "            print('\\\\',end=\"\")\n",
    "        elif i+j+1==n:\n",
    "            print('/',end=\"\")\n",
    "        else:\n",
    "            print('*',end=\"\")\n",
    "    print()"
   ]
  },
  {
   "cell_type": "code",
   "execution_count": 20,
   "id": "152a860e",
   "metadata": {},
   "outputs": [
    {
     "ename": "SyntaxError",
     "evalue": "invalid syntax (Temp/ipykernel_6952/3761101913.py, line 8)",
     "output_type": "error",
     "traceback": [
      "\u001b[1;36m  File \u001b[1;32m\"C:\\Users\\asd\\AppData\\Local\\Temp/ipykernel_6952/3761101913.py\"\u001b[1;36m, line \u001b[1;32m8\u001b[0m\n\u001b[1;33m    np.delete(arr, [0:k])\u001b[0m\n\u001b[1;37m                     ^\u001b[0m\n\u001b[1;31mSyntaxError\u001b[0m\u001b[1;31m:\u001b[0m invalid syntax\n"
     ]
    }
   ],
   "source": [
    "#C. Finding Minimums\n",
    "import numpy as np\n",
    "n,k=input().split()\n",
    "l=input().split()\n",
    "k=int(k)\n",
    "arr=np.array(l)\n",
    "ob=np.arange(k)\n",
    "np.delete(arr, [0:k])\n",
    "print(arr)"
   ]
  },
  {
   "cell_type": "code",
   "execution_count": 2,
   "id": "16a439ec",
   "metadata": {},
   "outputs": [
    {
     "name": "stdout",
     "output_type": "stream",
     "text": [
      "4\n",
      "3 6\n",
      "18\n",
      "2 11\n",
      "65\n",
      "4 16\n",
      "130\n",
      "7 17\n",
      "132\n"
     ]
    }
   ],
   "source": [
    "#D. Range Sum\n",
    "t=int(input())\n",
    "for i in range(t):\n",
    "    l,r=input().split()\n",
    "    s=0\n",
    "    for j in range(int(l),int(r)+1):\n",
    "        s=s+j\n",
    "    print(s)"
   ]
  },
  {
   "cell_type": "code",
   "execution_count": null,
   "id": "f31cc114",
   "metadata": {},
   "outputs": [],
   "source": []
  }
 ],
 "metadata": {
  "kernelspec": {
   "display_name": "Python 3 (ipykernel)",
   "language": "python",
   "name": "python3"
  },
  "language_info": {
   "codemirror_mode": {
    "name": "ipython",
    "version": 3
   },
   "file_extension": ".py",
   "mimetype": "text/x-python",
   "name": "python",
   "nbconvert_exporter": "python",
   "pygments_lexer": "ipython3",
   "version": "3.9.7"
  }
 },
 "nbformat": 4,
 "nbformat_minor": 5
}
