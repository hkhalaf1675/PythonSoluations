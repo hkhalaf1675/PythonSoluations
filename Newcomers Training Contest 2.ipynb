{
 "cells": [
  {
   "cell_type": "code",
   "execution_count": 7,
   "id": "e7037cf6",
   "metadata": {},
   "outputs": [
    {
     "name": "stdout",
     "output_type": "stream",
     "text": [
      "15 20\n",
      "23.53\n"
     ]
    }
   ],
   "source": [
    "#A. Winter Sale\n",
    "X,P=input().split()\n",
    "print(round((100/(100-int(X)))*int(P),2))"
   ]
  },
  {
   "cell_type": "code",
   "execution_count": 3,
   "id": "7e22880e",
   "metadata": {},
   "outputs": [
    {
     "name": "stdout",
     "output_type": "stream",
     "text": [
      "5 7 3\n",
      "No One\n"
     ]
    }
   ],
   "source": [
    "#B. Memo and Momo\n",
    "a,b,k=input().split()\n",
    "if int(a)%int(k)==0 and int(b)%int(k)==0:\n",
    "    print(\"Both\")\n",
    "elif int(a)%int(k)==0:\n",
    "    print(\"Memo\")\n",
    "elif int(b)%int(k)==0:\n",
    "    print(\"Momo\")\n",
    "else:\n",
    "    print(\"No One\")"
   ]
  },
  {
   "cell_type": "code",
   "execution_count": 11,
   "id": "d68d83d7",
   "metadata": {},
   "outputs": [
    {
     "name": "stdout",
     "output_type": "stream",
     "text": [
      "z\n",
      "a\n"
     ]
    }
   ],
   "source": [
    "#C. Next Alphabet\n",
    "import string\n",
    "c=input()\n",
    "if c=='z':\n",
    "    print('a')\n",
    "else:\n",
    "    alpha_list=string.ascii_lowercase\n",
    "    i=alpha_list.index(c)+1\n",
    "    print(alpha_list[i])"
   ]
  },
  {
   "cell_type": "code",
   "execution_count": 3,
   "id": "1452e7f3",
   "metadata": {},
   "outputs": [
    {
     "name": "stdout",
     "output_type": "stream",
     "text": [
      "1 2 3 1\n",
      "NO\n"
     ]
    }
   ],
   "source": [
    "#D. Ali Baba and Puzzles\n",
    "a,b,c,d=input().split()\n",
    "a=int(a)\n",
    "b=int(b)\n",
    "c=int(c)\n",
    "d=int(d)\n",
    "if a+b+c==d:\n",
    "    print(\"YES\")\n",
    "elif a-b-c==d:\n",
    "    print(\"YES\")\n",
    "elif a*b*c==d:\n",
    "    print(\"YES\")\n",
    "elif a+b-c==d:\n",
    "    print(\"YES\")\n",
    "elif a-b+c==d:\n",
    "    print(\"YES\")\n",
    "elif (a*b)+c==d:\n",
    "    print(\"YES\")\n",
    "elif a*(b+c)==d:\n",
    "    print(\"YES\")\n",
    "elif (a+b)*c==d:\n",
    "    print(\"YES\")\n",
    "elif a+(b*c)==d:\n",
    "    print(\"YES\")\n",
    "elif (a*b)-c==d:\n",
    "    print(\"YES\")\n",
    "elif a*(b-c)==d:\n",
    "    print(\"YES\")\n",
    "elif (a-b)*c==d:\n",
    "    print(\"YES\")\n",
    "elif a-(b*c)==d:\n",
    "    print(\"YES\")\n",
    "else:\n",
    "    print(\"NO\")"
   ]
  },
  {
   "cell_type": "code",
   "execution_count": 9,
   "id": "b40afbb2",
   "metadata": {},
   "outputs": [
    {
     "name": "stdout",
     "output_type": "stream",
     "text": [
      "513346317387145679 77468027403150137 477325518451900164\n",
      "295407172395147897\n"
     ]
    }
   ],
   "source": [
    "#G. Katryoshka\n",
    "n,m,k=input().split()\n",
    "n=int(n)\n",
    "m=int(m)\n",
    "k=int(k)\n",
    "if n<=0 or k<=0:\n",
    "    print(0)\n",
    "else:\n",
    "    s=min(n,m,k)\n",
    "    if s==n or s==k:\n",
    "        print(s)\n",
    "    else:\n",
    "        n=int((n-s)/2)\n",
    "        k=k-s\n",
    "        s=s+min(n,k)\n",
    "        print(s)"
   ]
  },
  {
   "cell_type": "code",
   "execution_count": 13,
   "id": "84779361",
   "metadata": {},
   "outputs": [
    {
     "name": "stdout",
     "output_type": "stream",
     "text": [
      "77468027403150137\n",
      "217939144991997760\n",
      "399857491048750027\n",
      "217939144991997760\n",
      "295407172395147897\n"
     ]
    }
   ],
   "source": [
    "n=513346317387145679\n",
    "m=77468027403150137\n",
    "k=477325518451900164\n",
    "miny=min(n,m,k)\n",
    "print(miny)\n",
    "n=int((n-miny)/2)\n",
    "print(n)\n",
    "k=k-miny\n",
    "print(k)\n",
    "print(min(n,k))\n",
    "miny=miny+min(n,k)\n",
    "print(miny)"
   ]
  },
  {
   "cell_type": "code",
   "execution_count": 16,
   "id": "4290ed84",
   "metadata": {},
   "outputs": [
    {
     "name": "stdout",
     "output_type": "stream",
     "text": [
      "10\n",
      "YES\n"
     ]
    }
   ],
   "source": [
    "#I. Lucky Numbers\n",
    "n=int(input())\n",
    "n1=n%10\n",
    "n2=(int(n/10))%10\n",
    "if n1%n2==0 or n2%n1==0:\n",
    "    print(\"YES\")\n",
    "else:\n",
    "    print(\"NO\")"
   ]
  }
 ],
 "metadata": {
  "kernelspec": {
   "display_name": "Python 3 (ipykernel)",
   "language": "python",
   "name": "python3"
  },
  "language_info": {
   "codemirror_mode": {
    "name": "ipython",
    "version": 3
   },
   "file_extension": ".py",
   "mimetype": "text/x-python",
   "name": "python",
   "nbconvert_exporter": "python",
   "pygments_lexer": "ipython3",
   "version": "3.9.7"
  }
 },
 "nbformat": 4,
 "nbformat_minor": 5
}
