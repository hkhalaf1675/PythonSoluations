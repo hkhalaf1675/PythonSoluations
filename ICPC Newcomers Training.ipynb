{
 "cells": [
  {
   "cell_type": "code",
   "execution_count": 9,
   "id": "1358a3b7",
   "metadata": {},
   "outputs": [
    {
     "name": "stdout",
     "output_type": "stream",
     "text": [
      "5 10\n",
      "5 + 10 = 15\n",
      "5 * 10 = 50\n",
      "5 - 10 = -5\n"
     ]
    }
   ],
   "source": [
    "#C. Simple Calculator\n",
    "X,Y=input().split()\n",
    "X=int(X)\n",
    "Y=int(Y)\n",
    "print(X,\"+\",Y,\"=\",(X+Y))\n",
    "print(X,\"*\",Y,\"=\",(X*Y))\n",
    "print(X,\"-\",Y,\"=\",(X-Y))"
   ]
  },
  {
   "cell_type": "code",
   "execution_count": 11,
   "id": "945602e5",
   "metadata": {},
   "outputs": [
    {
     "name": "stdout",
     "output_type": "stream",
     "text": [
      "2.00\n",
      "12.566370612\n"
     ]
    }
   ],
   "source": [
    "#E. Area of a Circle\n",
    "R=float(input())\n",
    "print(round((3.141592653*R*R),9))"
   ]
  },
  {
   "cell_type": "code",
   "execution_count": 1,
   "id": "4d97262b",
   "metadata": {},
   "outputs": [
    {
     "name": "stdin",
     "output_type": "stream",
     "text": [
      " 5\n"
     ]
    },
    {
     "name": "stdout",
     "output_type": "stream",
     "text": [
      "15\n"
     ]
    }
   ],
   "source": [
    "#G. Summation from 1 to N\n",
    "n=int(input())\n",
    "s=0\n",
    "for i in range(n+1):\n",
    "    s=s+i\n",
    "print(s)"
   ]
  },
  {
   "cell_type": "code",
   "execution_count": 24,
   "id": "72a86bf0",
   "metadata": {},
   "outputs": [
    {
     "name": "stdout",
     "output_type": "stream",
     "text": [
      "10\n",
      "55\n"
     ]
    }
   ],
   "source": [
    "N=int(input())\n",
    "print(sum(list(range(N+1))))"
   ]
  },
  {
   "cell_type": "code",
   "execution_count": 37,
   "id": "eec12634",
   "metadata": {},
   "outputs": [
    {
     "name": "stdout",
     "output_type": "stream",
     "text": [
      "10 4\n",
      "floor 10 / 4 = 2\n",
      "ceil 10 / 4 = 3\n",
      "round 10 / 4 = 3\n"
     ]
    }
   ],
   "source": [
    "#H. Two numbers\n",
    "from math import floor,ceil\n",
    "A,B=input().split()\n",
    "A=int(A)\n",
    "B=int(B)\n",
    "print(\"floor\",A,\"/\",B,\"=\",floor(A/B))\n",
    "print(\"ceil\",A,\"/\",B,\"=\",ceil(A/B))\n",
    "print(\"round\",A,\"/\",B,\"=\",round((A/B)+0.1))"
   ]
  },
  {
   "cell_type": "code",
   "execution_count": 49,
   "id": "bafe5617",
   "metadata": {},
   "outputs": [
    {
     "name": "stdout",
     "output_type": "stream",
     "text": [
      "2.4389140271493215\n",
      "2.5389140271493216\n",
      "2.44\n",
      "2\n"
     ]
    }
   ],
   "source": [
    "print(539/221)\n",
    "print(539/221+0.1)\n",
    "print(round((539/221),2))\n",
    "print(round((539/221)))"
   ]
  },
  {
   "cell_type": "code",
   "execution_count": 54,
   "id": "69a705d4",
   "metadata": {},
   "outputs": [
    {
     "name": "stdout",
     "output_type": "stream",
     "text": [
      "1 2 3\n",
      "1 3\n"
     ]
    }
   ],
   "source": [
    "#K. Max and Min\n",
    "A,B,C=input().split()\n",
    "print(min(int(A),int(B),int(C)),max(int(A),int(B),int(C)))"
   ]
  },
  {
   "cell_type": "code",
   "execution_count": 61,
   "id": "e159d06b",
   "metadata": {},
   "outputs": [
    {
     "name": "stdout",
     "output_type": "stream",
     "text": [
      "A\n",
      "ALPHA\n",
      "IS CAPITAL\n"
     ]
    }
   ],
   "source": [
    "#M. Capital or Small or Digit\n",
    "X=input()\n",
    "if X.isdigit():\n",
    "    print(\"IS DIGIT\")\n",
    "else:\n",
    "    print(\"ALPHA\")\n",
    "    if X.isupper():\n",
    "        print(\"IS CAPITAL\")\n",
    "    else:\n",
    "        print(\"IS SMALL\")"
   ]
  },
  {
   "cell_type": "code",
   "execution_count": 6,
   "id": "5e375268",
   "metadata": {},
   "outputs": [
    {
     "name": "stdout",
     "output_type": "stream",
     "text": [
      "5+5\n",
      "5\n"
     ]
    }
   ],
   "source": [
    "x=input()\n",
    "x=list(x)\n",
    "A=\"\"\n",
    "for i in range(0,(x.index('+'))):\n",
    "    A=A.join(x[i])\n",
    "print(A)"
   ]
  },
  {
   "cell_type": "code",
   "execution_count": 14,
   "id": "8bf67c98",
   "metadata": {},
   "outputs": [
    {
     "name": "stdout",
     "output_type": "stream",
     "text": [
      "10/3\n",
      "3\n"
     ]
    }
   ],
   "source": [
    "#O. Calculator\n",
    "import re\n",
    "x=input()\n",
    "s=re.split('[+*-/]',x)\n",
    "A=int(s[0])\n",
    "B=int(s[1])\n",
    "if '+' in x:\n",
    "    print(A+B)\n",
    "elif '*' in x:\n",
    "    print(A*B)\n",
    "elif '-' in x:\n",
    "    print(A-B)\n",
    "else:\n",
    "    print(int(A/B))"
   ]
  },
  {
   "cell_type": "code",
   "execution_count": 17,
   "id": "cf2ff845",
   "metadata": {},
   "outputs": [
    {
     "name": "stdout",
     "output_type": "stream",
     "text": [
      "-25.5\n",
      "Out of Intervals\n"
     ]
    }
   ],
   "source": [
    "#S. Interval\n",
    "X=float(input())\n",
    "if X>=0 and X<=25:\n",
    "    print(\"Interval [0,25]\")\n",
    "elif X>25 and X<=50:\n",
    "    print(\"Interval (25,50]\")\n",
    "elif X>50 and X<=75:\n",
    "    print(\"Interval (50,75]\")\n",
    "elif X>75 and X<=100:\n",
    "    print(\"Interval (75,100]\")\n",
    "else :\n",
    "    print(\"Out of Intervals\")"
   ]
  },
  {
   "cell_type": "code",
   "execution_count": 23,
   "id": "46a9dd80",
   "metadata": {},
   "outputs": [
    {
     "name": "stdout",
     "output_type": "stream",
     "text": [
      "695529 -668818 -552146\n",
      "-668818\n",
      "-552146\n",
      "695529\n",
      "\n",
      "695529\n",
      "-668818\n",
      "-552146\n"
     ]
    }
   ],
   "source": [
    "#T. Sort Numbers\n",
    "s=input().split()\n",
    "s_sorted = sorted([int(i) for i in s])\n",
    "for i in s_sorted:\n",
    "    print(i)\n",
    "print()\n",
    "for i in s:\n",
    "    print(i)"
   ]
  },
  {
   "cell_type": "code",
   "execution_count": 26,
   "id": "65fc299d",
   "metadata": {},
   "outputs": [
    {
     "name": "stdout",
     "output_type": "stream",
     "text": [
      "534.958\n",
      "float 534 0.95799999999997\n"
     ]
    }
   ],
   "source": [
    "#U. Float or int\n",
    "N=float(input())\n",
    "if(N%(int(N))==0):\n",
    "    print(\"int\",int(N))\n",
    "else:\n",
    "    print('float',int(N),(N%(int(N))))"
   ]
  },
  {
   "cell_type": "code",
   "execution_count": 27,
   "id": "ee024ab4",
   "metadata": {},
   "outputs": [
    {
     "name": "stdout",
     "output_type": "stream",
     "text": [
      "534\n",
      "0.95799999999997\n"
     ]
    }
   ],
   "source": [
    "print(int(N))\n",
    "print((N%(int(N))))"
   ]
  },
  {
   "cell_type": "code",
   "execution_count": 38,
   "id": "9936ea5a",
   "metadata": {},
   "outputs": [
    {
     "name": "stdout",
     "output_type": "stream",
     "text": [
      "1 15 5 27\n",
      "15 5\n"
     ]
    }
   ],
   "source": [
    "#X. Two intervals\n",
    "import numpy as np\n",
    "a,b,x,y=input().split()\n",
    "a=int(a)\n",
    "b=int(b)\n",
    "x=int(x)\n",
    "y=int(y)\n",
    "inter_1=np.arange(start=a,stop=b+1,step=1)\n",
    "inter_2=np.arange(start=x,stop=y+1,step=1)\n",
    "if a in inter_2:\n",
    "    if x in inter_1:\n",
    "        if y in inter_1:\n",
    "            print(a,x,y)\n",
    "        else:\n",
    "            print(a,x)\n",
    "    elif y in inter_1:\n",
    "        print(a,x)\n",
    "elif b in inter_2:\n",
    "    if x in inter_1:\n",
    "        if y in inter_1:\n",
    "            print(b,x,y)\n",
    "        else:\n",
    "            print(b,x)\n",
    "    elif y in inter_1:\n",
    "        print(b,x)"
   ]
  },
  {
   "cell_type": "code",
   "execution_count": 2,
   "id": "d2d54150",
   "metadata": {},
   "outputs": [
    {
     "name": "stdout",
     "output_type": "stream",
     "text": [
      "3 9 9 9\n",
      "87\n"
     ]
    }
   ],
   "source": [
    "#Y. The last 2 digits\n",
    "A,B,C,D=input().split()\n",
    "res=str(int(A)*int(B)*int(C)*int(D))\n",
    "print(res[-2:])"
   ]
  },
  {
   "cell_type": "code",
   "execution_count": null,
   "id": "c53d7634",
   "metadata": {},
   "outputs": [
    {
     "name": "stdout",
     "output_type": "stream",
     "text": [
      "2887969 614604076030 8478041 209676100616\n"
     ]
    }
   ],
   "source": [
    "#Z. Hard Compare\n",
    "A,B,C,D=input().split()\n",
    "if pow(int(A),int(B)) > pow(int(C),int(D)):\n",
    "    print(\"YES\")\n",
    "else:\n",
    "    print(\"NO\")"
   ]
  },
  {
   "cell_type": "code",
   "execution_count": null,
   "id": "d610c4e4",
   "metadata": {},
   "outputs": [],
   "source": [
    "#Z. Hard Compare\n",
    "A,B,C,D=input().split()\n",
    "if int(B)>int(D):\n",
    "    print(\"YES\")\n",
    "else:\n",
    "    print(\"NO\")"
   ]
  },
  {
   "cell_type": "code",
   "execution_count": null,
   "id": "1df837cd",
   "metadata": {},
   "outputs": [],
   "source": []
  }
 ],
 "metadata": {
  "kernelspec": {
   "display_name": "Python 3 (ipykernel)",
   "language": "python",
   "name": "python3"
  },
  "language_info": {
   "codemirror_mode": {
    "name": "ipython",
    "version": 3
   },
   "file_extension": ".py",
   "mimetype": "text/x-python",
   "name": "python",
   "nbconvert_exporter": "python",
   "pygments_lexer": "ipython3",
   "version": "3.9.7"
  }
 },
 "nbformat": 4,
 "nbformat_minor": 5
}
